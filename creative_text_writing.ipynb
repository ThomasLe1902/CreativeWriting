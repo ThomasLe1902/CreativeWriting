{
 "cells": [
  {
   "cell_type": "markdown",
   "id": "0b2e151b",
   "metadata": {},
   "source": [
    "Data preparation"
   ]
  },
  {
   "cell_type": "code",
   "execution_count": 1,
   "id": "ef087bf3",
   "metadata": {},
   "outputs": [
    {
     "ename": "ModuleNotFoundError",
     "evalue": "No module named 'pandas'",
     "output_type": "error",
     "traceback": [
      "\u001b[1;31m---------------------------------------------------------------------------\u001b[0m",
      "\u001b[1;31mModuleNotFoundError\u001b[0m                       Traceback (most recent call last)",
      "Cell \u001b[1;32mIn[1], line 1\u001b[0m\n\u001b[1;32m----> 1\u001b[0m \u001b[38;5;28;01mimport\u001b[39;00m\u001b[38;5;250m \u001b[39m\u001b[38;5;21;01mpandas\u001b[39;00m\u001b[38;5;250m \u001b[39m\u001b[38;5;28;01mas\u001b[39;00m\u001b[38;5;250m \u001b[39m\u001b[38;5;21;01mpd\u001b[39;00m\n\u001b[0;32m      2\u001b[0m \u001b[38;5;28;01mimport\u001b[39;00m\u001b[38;5;250m \u001b[39m\u001b[38;5;21;01mos\u001b[39;00m\n\u001b[0;32m      3\u001b[0m \u001b[38;5;28;01mfrom\u001b[39;00m\u001b[38;5;250m \u001b[39m\u001b[38;5;21;01mdatasets\u001b[39;00m\u001b[38;5;250m \u001b[39m\u001b[38;5;28;01mimport\u001b[39;00m Dataset\n",
      "\u001b[1;31mModuleNotFoundError\u001b[0m: No module named 'pandas'"
     ]
    }
   ],
   "source": [
    "import pandas as pd\n",
    "import os\n",
    "from datasets import Dataset"
   ]
  },
  {
   "cell_type": "code",
   "execution_count": null,
   "id": "1c58053d",
   "metadata": {},
   "outputs": [],
   "source": [
    "data_dir = r\"train-00000-of-00005.parquet\"\n",
    "ds = Dataset.from_parquet(data_dir)\n",
    "df = pd.DataFrame(ds)"
   ]
  },
  {
   "cell_type": "code",
   "execution_count": 3,
   "id": "8965e3f2",
   "metadata": {},
   "outputs": [
    {
     "name": "stdout",
     "output_type": "stream",
     "text": [
      "<class 'pandas.core.frame.DataFrame'>\n",
      "RangeIndex: 53035 entries, 0 to 53034\n",
      "Data columns (total 6 columns):\n",
      " #   Column          Non-Null Count  Dtype \n",
      "---  ------          --------------  ----- \n",
      " 0   post_text       53035 non-null  object\n",
      " 1   post_title      53035 non-null  object\n",
      " 2   post_scores     53035 non-null  int64 \n",
      " 3   comment_texts   53035 non-null  object\n",
      " 4   comment_scores  53035 non-null  object\n",
      " 5   comment_times   53035 non-null  object\n",
      "dtypes: int64(1), object(5)\n",
      "memory usage: 2.4+ MB\n"
     ]
    }
   ],
   "source": [
    "df.info()"
   ]
  },
  {
   "cell_type": "code",
   "execution_count": 4,
   "id": "af36f0a2",
   "metadata": {},
   "outputs": [
    {
     "name": "stdout",
     "output_type": "stream",
     "text": [
      "Post Text Lengths: {'median': 0.0, 'min': 0, 'max': 5278}\n",
      "Post Title Lengths: {'median': 158.0, 'min': 4, 'max': 312}\n"
     ]
    }
   ],
   "source": [
    "post_text_lengths = df['post_text'].apply(lambda x: len(str(x)))\n",
    "post_title_lengths = df['post_title'].apply(lambda x: len(str(x)))\n",
    "\n",
    "stats = {\n",
    "    'post_text': {\n",
    "        'median': post_text_lengths.median(),\n",
    "        'min': post_text_lengths.min(),\n",
    "        'max': post_text_lengths.max()\n",
    "    },\n",
    "    'post_title': {\n",
    "        'median': post_title_lengths.median(),\n",
    "        'min': post_title_lengths.min(),\n",
    "        'max': post_title_lengths.max()\n",
    "    }\n",
    "}\n",
    "\n",
    "print(\"Post Text Lengths:\", stats['post_text'])\n",
    "print(\"Post Title Lengths:\", stats['post_title'])"
   ]
  },
  {
   "cell_type": "code",
   "execution_count": 5,
   "id": "bfb4e4c8",
   "metadata": {},
   "outputs": [
    {
     "name": "stdout",
     "output_type": "stream",
     "text": [
      "post_text: Missing = 0, Percentage = 0.00%\n",
      "post_title: Missing = 0, Percentage = 0.00%\n",
      "post_scores: Missing = 0, Percentage = 0.00%\n",
      "comment_texts: Missing = 0, Percentage = 0.00%\n",
      "comment_scores: Missing = 0, Percentage = 0.00%\n",
      "comment_times: Missing = 0, Percentage = 0.00%\n"
     ]
    }
   ],
   "source": [
    "missing_counts = df.isnull().sum()\n",
    "missing_percentages = (missing_counts / len(df)) * 100\n",
    "\n",
    "for col in df.columns:\n",
    "    print(f\"{col}: Missing = {missing_counts[col]}, Percentage = {missing_percentages[col]:.2f}%\")"
   ]
  },
  {
   "cell_type": "code",
   "execution_count": 5,
   "id": "4835b627",
   "metadata": {},
   "outputs": [
    {
     "data": {
      "text/html": [
       "<div>\n",
       "<style scoped>\n",
       "    .dataframe tbody tr th:only-of-type {\n",
       "        vertical-align: middle;\n",
       "    }\n",
       "\n",
       "    .dataframe tbody tr th {\n",
       "        vertical-align: top;\n",
       "    }\n",
       "\n",
       "    .dataframe thead th {\n",
       "        text-align: right;\n",
       "    }\n",
       "</style>\n",
       "<table border=\"1\" class=\"dataframe\">\n",
       "  <thead>\n",
       "    <tr style=\"text-align: right;\">\n",
       "      <th></th>\n",
       "      <th>post_text</th>\n",
       "      <th>post_title</th>\n",
       "      <th>post_scores</th>\n",
       "      <th>comment_texts</th>\n",
       "      <th>comment_scores</th>\n",
       "      <th>comment_times</th>\n",
       "    </tr>\n",
       "  </thead>\n",
       "  <tbody>\n",
       "    <tr>\n",
       "      <th>0</th>\n",
       "      <td>Hey guys, I'm a 16 year old student, and I'm t...</td>\n",
       "      <td>[WP] 400-500 words, Power</td>\n",
       "      <td>10</td>\n",
       "      <td>[I've always found this clip from Schindler's ...</td>\n",
       "      <td>[1, 1, 1, 1, 2, 2]</td>\n",
       "      <td>[1347903587, 1347938114, 1347962757, 134871271...</td>\n",
       "    </tr>\n",
       "    <tr>\n",
       "      <th>1</th>\n",
       "      <td>THE REWARD: I present you with various picture...</td>\n",
       "      <td>[WP] THE CHALLENGE: Any situation where the wo...</td>\n",
       "      <td>29</td>\n",
       "      <td>[\"This is it!\" I exclaim. \"This is the moment ...</td>\n",
       "      <td>[1, 2, 2, 2, 2, 2, 2, 2, 2, 3, 5, 5, 5, 11, 11...</td>\n",
       "      <td>[1349930756, 1349455773, 1349463903, 134947793...</td>\n",
       "    </tr>\n",
       "    <tr>\n",
       "      <th>2</th>\n",
       "      <td>Write a short story and include as many of the...</td>\n",
       "      <td>[WP] 1 month Reddit gold writing contest!</td>\n",
       "      <td>38</td>\n",
       "      <td>[There was little to do but ascend the cracked...</td>\n",
       "      <td>[1, 1, 1, 2, 2, 2, 2, 3, 3, 3, 5, 5, 5, 8]</td>\n",
       "      <td>[1349759060, 1349763595, 1349764955, 134974284...</td>\n",
       "    </tr>\n",
       "    <tr>\n",
       "      <th>3</th>\n",
       "      <td>But make it a curse instead of a blessing.</td>\n",
       "      <td>[WP] Give your protagonist the one talent you'...</td>\n",
       "      <td>20</td>\n",
       "      <td>[Finally, he beat that fucking water level. Ev...</td>\n",
       "      <td>[3, 6, 17]</td>\n",
       "      <td>[1358295555, 1358283752, 1358281203]</td>\n",
       "    </tr>\n",
       "    <tr>\n",
       "      <th>4</th>\n",
       "      <td>It can be a house, a castle, a city, a tree, a...</td>\n",
       "      <td>[WP] Describe home, and make me want to live t...</td>\n",
       "      <td>9</td>\n",
       "      <td>[Vines coated every vertical flat surface they...</td>\n",
       "      <td>[1, 1, 1, 2, 2, 4, 5, 6]</td>\n",
       "      <td>[1361112312, 1361169421, 1361209997, 136090926...</td>\n",
       "    </tr>\n",
       "  </tbody>\n",
       "</table>\n",
       "</div>"
      ],
      "text/plain": [
       "                                           post_text  \\\n",
       "0  Hey guys, I'm a 16 year old student, and I'm t...   \n",
       "1  THE REWARD: I present you with various picture...   \n",
       "2  Write a short story and include as many of the...   \n",
       "3        But make it a curse instead of a blessing.    \n",
       "4  It can be a house, a castle, a city, a tree, a...   \n",
       "\n",
       "                                          post_title  post_scores  \\\n",
       "0                          [WP] 400-500 words, Power           10   \n",
       "1  [WP] THE CHALLENGE: Any situation where the wo...           29   \n",
       "2          [WP] 1 month Reddit gold writing contest!           38   \n",
       "3  [WP] Give your protagonist the one talent you'...           20   \n",
       "4  [WP] Describe home, and make me want to live t...            9   \n",
       "\n",
       "                                       comment_texts  \\\n",
       "0  [I've always found this clip from Schindler's ...   \n",
       "1  [\"This is it!\" I exclaim. \"This is the moment ...   \n",
       "2  [There was little to do but ascend the cracked...   \n",
       "3  [Finally, he beat that fucking water level. Ev...   \n",
       "4  [Vines coated every vertical flat surface they...   \n",
       "\n",
       "                                      comment_scores  \\\n",
       "0                                 [1, 1, 1, 1, 2, 2]   \n",
       "1  [1, 2, 2, 2, 2, 2, 2, 2, 2, 3, 5, 5, 5, 11, 11...   \n",
       "2         [1, 1, 1, 2, 2, 2, 2, 3, 3, 3, 5, 5, 5, 8]   \n",
       "3                                         [3, 6, 17]   \n",
       "4                           [1, 1, 1, 2, 2, 4, 5, 6]   \n",
       "\n",
       "                                       comment_times  \n",
       "0  [1347903587, 1347938114, 1347962757, 134871271...  \n",
       "1  [1349930756, 1349455773, 1349463903, 134947793...  \n",
       "2  [1349759060, 1349763595, 1349764955, 134974284...  \n",
       "3               [1358295555, 1358283752, 1358281203]  \n",
       "4  [1361112312, 1361169421, 1361209997, 136090926...  "
      ]
     },
     "execution_count": 5,
     "metadata": {},
     "output_type": "execute_result"
    }
   ],
   "source": [
    "df.head()  # Display the first few rows of the DataFrame"
   ]
  },
  {
   "cell_type": "code",
   "execution_count": 6,
   "id": "0c2233ac",
   "metadata": {},
   "outputs": [],
   "source": [
    "def get_preference_pair(row):\n",
    "    if row['comment_scores'][-1] > row['comment_scores'][0]:\n",
    "        preference_pair = {\n",
    "            \"prompt\": f\"{row['post_title']}. {row['post_text']}\",\n",
    "            \"chosen\": row['comment_texts'][-1],\n",
    "            \"rejected\": row['comment_texts'][0]\n",
    "        }\n",
    "        # Convert the output into a DataFrame row with the same index\n",
    "        return pd.Series(preference_pair)"
   ]
  },
  {
   "cell_type": "code",
   "execution_count": 7,
   "id": "196fecac",
   "metadata": {},
   "outputs": [],
   "source": [
    "preference_df = df.apply(get_preference_pair, axis=1)\n",
    "preference_df = preference_df.dropna().reset_index(drop=True)"
   ]
  },
  {
   "cell_type": "code",
   "execution_count": null,
   "id": "69ace799",
   "metadata": {},
   "outputs": [],
   "source": [
    "preference_df.info()  # Display the DataFrame information to check the structure and data types"
   ]
  },
  {
   "cell_type": "code",
   "execution_count": 8,
   "id": "142c13db",
   "metadata": {},
   "outputs": [
    {
     "data": {
      "text/html": [
       "<div>\n",
       "<style scoped>\n",
       "    .dataframe tbody tr th:only-of-type {\n",
       "        vertical-align: middle;\n",
       "    }\n",
       "\n",
       "    .dataframe tbody tr th {\n",
       "        vertical-align: top;\n",
       "    }\n",
       "\n",
       "    .dataframe thead th {\n",
       "        text-align: right;\n",
       "    }\n",
       "</style>\n",
       "<table border=\"1\" class=\"dataframe\">\n",
       "  <thead>\n",
       "    <tr style=\"text-align: right;\">\n",
       "      <th></th>\n",
       "      <th>prompt</th>\n",
       "      <th>chosen</th>\n",
       "      <th>rejected</th>\n",
       "    </tr>\n",
       "  </thead>\n",
       "  <tbody>\n",
       "    <tr>\n",
       "      <th>0</th>\n",
       "      <td>[WP] 400-500 words, Power. Hey guys, I'm a 16 ...</td>\n",
       "      <td>Power, like many things, is amoral in nature. ...</td>\n",
       "      <td>I've always found this clip from Schindler's L...</td>\n",
       "    </tr>\n",
       "    <tr>\n",
       "      <th>1</th>\n",
       "      <td>[WP] THE CHALLENGE: Any situation where the wo...</td>\n",
       "      <td>He tapped his foot impatiently. Enough was eno...</td>\n",
       "      <td>\"This is it!\" I exclaim. \"This is the moment w...</td>\n",
       "    </tr>\n",
       "    <tr>\n",
       "      <th>2</th>\n",
       "      <td>[WP] 1 month Reddit gold writing contest!. Wri...</td>\n",
       "      <td>An insidious moon rose in infinitesimal increm...</td>\n",
       "      <td>There was little to do but ascend the cracked ...</td>\n",
       "    </tr>\n",
       "    <tr>\n",
       "      <th>3</th>\n",
       "      <td>[WP] Give your protagonist the one talent you'...</td>\n",
       "      <td>\"Holy shit, I'm not sure....\"  \\n\"Just try, it...</td>\n",
       "      <td>Finally, he beat that fucking water level. Eve...</td>\n",
       "    </tr>\n",
       "    <tr>\n",
       "      <th>4</th>\n",
       "      <td>[WP] Describe home, and make me want to live t...</td>\n",
       "      <td>I spent my early childhood in an isolated hous...</td>\n",
       "      <td>Vines coated every vertical flat surface they ...</td>\n",
       "    </tr>\n",
       "  </tbody>\n",
       "</table>\n",
       "</div>"
      ],
      "text/plain": [
       "                                              prompt  \\\n",
       "0  [WP] 400-500 words, Power. Hey guys, I'm a 16 ...   \n",
       "1  [WP] THE CHALLENGE: Any situation where the wo...   \n",
       "2  [WP] 1 month Reddit gold writing contest!. Wri...   \n",
       "3  [WP] Give your protagonist the one talent you'...   \n",
       "4  [WP] Describe home, and make me want to live t...   \n",
       "\n",
       "                                              chosen  \\\n",
       "0  Power, like many things, is amoral in nature. ...   \n",
       "1  He tapped his foot impatiently. Enough was eno...   \n",
       "2  An insidious moon rose in infinitesimal increm...   \n",
       "3  \"Holy shit, I'm not sure....\"  \\n\"Just try, it...   \n",
       "4  I spent my early childhood in an isolated hous...   \n",
       "\n",
       "                                            rejected  \n",
       "0  I've always found this clip from Schindler's L...  \n",
       "1  \"This is it!\" I exclaim. \"This is the moment w...  \n",
       "2  There was little to do but ascend the cracked ...  \n",
       "3  Finally, he beat that fucking water level. Eve...  \n",
       "4  Vines coated every vertical flat surface they ...  "
      ]
     },
     "execution_count": 8,
     "metadata": {},
     "output_type": "execute_result"
    }
   ],
   "source": [
    "preference_df.head()  # Display the first 10 rows of the preference DataFrame"
   ]
  },
  {
   "cell_type": "code",
   "execution_count": null,
   "id": "183de555",
   "metadata": {},
   "outputs": [],
   "source": [
    "# Save the preference pairs to a CSV file for validation\n",
    "preference_df.to_csv(\"CreativeWriting\\preference_pairs.csv\", index=False)"
   ]
  },
  {
   "cell_type": "markdown",
   "id": "185f6ade",
   "metadata": {},
   "source": [
    "Model training"
   ]
  },
  {
   "cell_type": "code",
   "execution_count": null,
   "id": "43207da2",
   "metadata": {},
   "outputs": [],
   "source": [
    "from transformers import GPT2Tokenizer, GPT2LMHeadModel, Trainer, TrainingArguments\n",
    "from huggingface_hub import login\n",
    "from trl import DPOTrainer, DPOConfig\n",
    "import torch"
   ]
  },
  {
   "cell_type": "code",
   "execution_count": null,
   "id": "f1f62a3c",
   "metadata": {},
   "outputs": [],
   "source": [
    "tokenizer = GPT2Tokenizer.from_pretrained(\"gpt2\")\n",
    "tokenizer.pad_token = tokenizer.eos_token  # Set the pad token to the end of sentence token\n",
    "model = GPT2LMHeadModel.from_pretrained(\"gpt2\")"
   ]
  },
  {
   "cell_type": "code",
   "execution_count": null,
   "id": "d13bb78a",
   "metadata": {},
   "outputs": [],
   "source": [
    "from datasets import Dataset as HFDataset\n",
    "\n",
    "# Tokenize the preference_df for training\n",
    "def tokenize_function(example):\n",
    "    return tokenizer(\n",
    "        example[\"prompt\"],\n",
    "        padding=\"max_length\",\n",
    "        truncation=True,\n",
    "        max_length=512,\n",
    "        return_tensors=\"pt\"\n",
    "    )\n",
    "\n",
    "# Convert to Hugging Face Dataset for compatibility\n",
    "train_dataset = preference_df[[\"prompt\", \"chosen\", \"rejected\"]]\n",
    "hf_train_dataset = HFDataset.from_pandas(train_dataset[:10000]) \n",
    "\n",
    "dpo_training_args = DPOConfig(\n",
    "    output_dir=\"./gpt2-dpo-output\",\n",
    "    per_device_train_batch_size=2,\n",
    "    num_train_epochs=5,\n",
    "    logging_steps=10, # Reduced logging for quick demo\n",
    "    save_steps=200,\n",
    "    save_total_limit=2,\n",
    "    fp16=True,\n",
    "    report_to=\"none\", # To disable Weights & Biases or other reporting if not configured\n",
    "    \n",
    "    # DPO specific parameters:\n",
    "    beta=0.1,\n",
    "    label_smoothing=0.0,\n",
    "    max_length=2048,        # Maximum length of the combined prompt + chosen/rejected sequence\n",
    "    max_prompt_length=256, # Maximum length of the prompt part\n",
    ")\n",
    "\n",
    "# Instantiate DPOTrainer\n",
    "trainer = DPOTrainer(\n",
    "    model=model,\n",
    "    ref_model=None, # If None, DPOTrainer will create a copy of `model` as `ref_model`\n",
    "    args=dpo_training_args, # Pass the DPOConfig object here\n",
    "    train_dataset=hf_train_dataset,\n",
    "    processing_class=tokenizer, # Pass the tokenizer object directly\n",
    ")\n",
    "# Start training\n",
    "trainer.train()"
   ]
  },
  {
   "cell_type": "code",
   "execution_count": null,
   "id": "8e25586b",
   "metadata": {},
   "outputs": [],
   "source": [
    "CUDA_LAUNCH_BLOCKING=1"
   ]
  },
  {
   "cell_type": "code",
   "execution_count": null,
   "id": "d2b16ea1",
   "metadata": {},
   "outputs": [],
   "source": [
    "trainer.save_model(\"./gpt2-dpo-final-model\")\n",
    "tokenizer.save_pretrained(\"./gpt2-dpo-final-model\")"
   ]
  },
  {
   "cell_type": "code",
   "execution_count": null,
   "id": "804e02c5",
   "metadata": {},
   "outputs": [],
   "source": [
    "new_model = GPT2LMHeadModel.from_pretrained(\"./gpt2-dpo-final-model\")\n",
    "\n",
    "generation_params = {\n",
    "    \"max_length\": 2500,\n",
    "    \"num_beams\": 5,\n",
    "    \"temperature\": 0.7,\n",
    "    \"top_k\": 50,\n",
    "    \"top_p\": 0.95,\n",
    "    'repetition_penalty': 1.2,\n",
    "    'pad_token_id': tokenizer.eos_token_id,\n",
    "}\n",
    "\n",
    "test_prompt = '''\n",
    "Mary Magdalene was the only Apostle with more than 2 braincells, and mostly just hung out with the boys to make sure they didn't do anything too stupid.\n",
    "'''\n",
    "\n",
    "generated_ids = new_model.generate(\n",
    "    input_ids=tokenizer.encode(test_prompt, return_tensors='pt'),\n",
    "    **generation_params\n",
    ")\n",
    "\n",
    "generated_text = tokenizer.decode(generated_ids[0], skip_special_tokens=True)\n",
    "\n",
    "print(\"--- Prompt ---\")\n",
    "print(test_prompt)\n",
    "\n",
    "print(\"\\n--- Generated text (new_model) ---\")\n",
    "print(generated_text)"
   ]
  }
 ],
 "metadata": {
  "kernelspec": {
   "display_name": "Python 3",
   "language": "python",
   "name": "python3"
  },
  "language_info": {
   "codemirror_mode": {
    "name": "ipython",
    "version": 3
   },
   "file_extension": ".py",
   "mimetype": "text/x-python",
   "name": "python",
   "nbconvert_exporter": "python",
   "pygments_lexer": "ipython3",
   "version": "3.10.11"
  }
 },
 "nbformat": 4,
 "nbformat_minor": 5
}
